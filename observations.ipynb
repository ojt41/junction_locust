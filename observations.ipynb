{
 "cells": [
  {
   "cell_type": "code",
   "id": "initial_id",
   "metadata": {
    "collapsed": true,
    "ExecuteTime": {
     "end_time": "2024-11-09T16:37:40.220299Z",
     "start_time": "2024-11-09T16:37:40.156550Z"
    }
   },
   "source": [
    "import pandas as pd\n",
    "import datetime\n",
    "df = pd.read_csv('locust_data.csv')\n",
    "\n",
    "df.columns.unique()"
   ],
   "outputs": [
    {
     "data": {
      "text/plain": [
       "Index(['Category', 'lat', 'lon', 'Part of month', 'Observation Date',\n",
       "       'Impacted Area (ha)', 'Country', 'Location Name', 'Data updated on'],\n",
       "      dtype='object')"
      ]
     },
     "execution_count": 5,
     "metadata": {},
     "output_type": "execute_result"
    }
   ],
   "execution_count": 5
  },
  {
   "metadata": {
    "ExecuteTime": {
     "end_time": "2024-11-09T16:37:41.853418Z",
     "start_time": "2024-11-09T16:37:41.753907Z"
    }
   },
   "cell_type": "code",
   "source": [
    "df['Observation Date'] = pd.to_datetime(df['Observation Date'], errors='coerce')\n",
    "df_2018_onwards = df[df['Observation Date'] >= '2018-01-01']\n",
    "\n",
    "df_2018_onwards.to_csv('locust_data_2018_onwards.csv', index=False)\n"
   ],
   "id": "54e6a12bea3cbe54",
   "outputs": [],
   "execution_count": 6
  }
 ],
 "metadata": {
  "kernelspec": {
   "display_name": "Python 3",
   "language": "python",
   "name": "python3"
  },
  "language_info": {
   "codemirror_mode": {
    "name": "ipython",
    "version": 2
   },
   "file_extension": ".py",
   "mimetype": "text/x-python",
   "name": "python",
   "nbconvert_exporter": "python",
   "pygments_lexer": "ipython2",
   "version": "2.7.6"
  }
 },
 "nbformat": 4,
 "nbformat_minor": 5
}
